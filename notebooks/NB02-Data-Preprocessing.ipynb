{
 "cells": [
  {
   "cell_type": "markdown",
   "metadata": {},
   "source": [
    "# Preprocessing\n",
    "This notebook is responsible for transformation of raw data collected from Spotify's API and adjusting the structure and data types for storage in a relational database."
   ]
  },
  {
   "cell_type": "code",
   "execution_count": 1,
   "metadata": {},
   "outputs": [],
   "source": [
    "# Import necessary packages\n",
    "\n",
    "import os\n",
    "import sqlite3\n",
    "import pandas as pd\n",
    "import ast\n",
    "import json"
   ]
  },
  {
   "cell_type": "code",
   "execution_count": 2,
   "metadata": {},
   "outputs": [],
   "source": [
    "# Load the dataset\n",
    "df = pd.read_csv('../data/raw/spotify_playlists.csv')"
   ]
  },
  {
   "cell_type": "markdown",
   "metadata": {},
   "source": [
    "## Data Extraction\n",
    "We begin by extracting only the information we are interested in and creating separate data frames that later will be transformed into database tables."
   ]
  },
  {
   "cell_type": "code",
   "execution_count": 3,
   "metadata": {},
   "outputs": [],
   "source": [
    "df['playlist_id'] = df['playlist_href'].apply(lambda x: x.split('/')[-1])\n",
    "df['songs'] = df['songs'].apply(lambda x: ast.literal_eval(x))\n",
    "# chatGPT helped here\n",
    "df['songs'] = [songs + [{'playlist_id': playlist_id}] for songs, playlist_id in zip(df['songs'], df['playlist_id'])]"
   ]
  },
  {
   "cell_type": "code",
   "execution_count": 4,
   "metadata": {},
   "outputs": [],
   "source": [
    "# Copy was made to avoid SettingWithCopyWarning\n",
    "playlists = df[['playlist_id', 'name', 'description']].copy()\n",
    "playlists['num_followers'] = df['followers']"
   ]
  },
  {
   "cell_type": "markdown",
   "metadata": {},
   "source": [
    "Helper functions below are used to create a readily formatted data frame with songs details. `artist_list_to_string` creates a string of artists' names separated by commas (We will use SQLite that cannot store lists), `clean_song_data` extracts only the relevant information for every song."
   ]
  },
  {
   "cell_type": "code",
   "execution_count": 5,
   "metadata": {},
   "outputs": [],
   "source": [
    "def artist_list_to_string(artists):\n",
    "    str = \"\"\n",
    "\n",
    "    for artist in artists:\n",
    "        str += artist['name'] + \", \"\n",
    "\n",
    "    str = str[:-2]\n",
    "    return str\n",
    "    \n",
    "def clean_song_data(song: list, playlist_id):\n",
    "    row = {}\n",
    "    \n",
    "    row['song_id'] = song['track']['external_ids']['isrc']\n",
    "    row['playlist_id'] = playlist_id\n",
    "    row['album_id'] = song['track']['album']['id']\n",
    "    row['title'] = song['track']['name']\n",
    "    row['release_date'] = song['track']['album']['release_date']\n",
    "    row['is_explicit'] = song['track']['explicit']\n",
    "    row['album_name'] = song['track']['album']['name']\n",
    "    row['image_url'] = song['track']['album']['images'][2]['url']\n",
    "    row['artists'] = artist_list_to_string(song['track']['artists'])\n",
    "    row['popularity'] = song['track']['popularity']\n",
    "\n",
    "    return row"
   ]
  },
  {
   "cell_type": "markdown",
   "metadata": {},
   "source": [
    "After creating new functions we are ready to apply them to transform the songs data into a more managable format."
   ]
  },
  {
   "cell_type": "code",
   "execution_count": 6,
   "metadata": {},
   "outputs": [],
   "source": [
    "# chatGPT helped here\n",
    "songs = df['songs'].apply(lambda song_list: [clean_song_data(song, song_list[-1]['playlist_id']) for song in song_list[:-1]])\n",
    "songs = songs.explode().apply(pd.Series)"
   ]
  },
  {
   "cell_type": "markdown",
   "metadata": {},
   "source": [
    "## Structuring the data\n",
    "To remove redundant records and minimize the storage required, we further transform the data frames."
   ]
  },
  {
   "cell_type": "markdown",
   "metadata": {},
   "source": [
    "### Check for duplicates\n",
    "First, we investigate the presence of duplicates. Uniqueness of every playlist is ensured by the return statement of the `get_playlists_links` function in the notebook NB01. Naturally, it should be expected that the same song could be present in multiple playlists. To accomodate future exploratory data analysis, we make a new variable representing the number of appearances a song has in all playlists considered."
   ]
  },
  {
   "cell_type": "code",
   "execution_count": 7,
   "metadata": {},
   "outputs": [
    {
     "data": {
      "text/html": [
       "<div>\n",
       "<style scoped>\n",
       "    .dataframe tbody tr th:only-of-type {\n",
       "        vertical-align: middle;\n",
       "    }\n",
       "\n",
       "    .dataframe tbody tr th {\n",
       "        vertical-align: top;\n",
       "    }\n",
       "\n",
       "    .dataframe thead th {\n",
       "        text-align: right;\n",
       "    }\n",
       "</style>\n",
       "<table border=\"1\" class=\"dataframe\">\n",
       "  <thead>\n",
       "    <tr style=\"text-align: right;\">\n",
       "      <th></th>\n",
       "      <th>song_id</th>\n",
       "      <th>playlist_id</th>\n",
       "      <th>album_id</th>\n",
       "      <th>title</th>\n",
       "      <th>release_date</th>\n",
       "      <th>release_date_precision</th>\n",
       "      <th>is_explicit</th>\n",
       "      <th>album_name</th>\n",
       "      <th>image_url</th>\n",
       "      <th>artists</th>\n",
       "      <th>popularity</th>\n",
       "    </tr>\n",
       "    <tr>\n",
       "      <th>num_occurrances</th>\n",
       "      <th></th>\n",
       "      <th></th>\n",
       "      <th></th>\n",
       "      <th></th>\n",
       "      <th></th>\n",
       "      <th></th>\n",
       "      <th></th>\n",
       "      <th></th>\n",
       "      <th></th>\n",
       "      <th></th>\n",
       "      <th></th>\n",
       "    </tr>\n",
       "  </thead>\n",
       "  <tbody>\n",
       "    <tr>\n",
       "      <th>3</th>\n",
       "      <td>USSM12402296</td>\n",
       "      <td>37i9dQZF1DWYrgs30Ir8ow</td>\n",
       "      <td>17R63Sb8OrPikc2R4mlpdC</td>\n",
       "      <td>GIRLS</td>\n",
       "      <td>2024-06-28</td>\n",
       "      <td>day</td>\n",
       "      <td>True</td>\n",
       "      <td>GIRLS</td>\n",
       "      <td>https://i.scdn.co/image/ab67616d00004851c8af72...</td>\n",
       "      <td>The Kid LAROI</td>\n",
       "      <td>85</td>\n",
       "    </tr>\n",
       "    <tr>\n",
       "      <th>3</th>\n",
       "      <td>USUG12403632</td>\n",
       "      <td>37i9dQZF1DWYrgs30Ir8ow</td>\n",
       "      <td>1SiWjniEb94wSFZ5YjZDHr</td>\n",
       "      <td>Did It First (with Central Cee)</td>\n",
       "      <td>2024-07-11</td>\n",
       "      <td>day</td>\n",
       "      <td>True</td>\n",
       "      <td>Did It First (with Central Cee)</td>\n",
       "      <td>https://i.scdn.co/image/ab67616d00004851dc9f83...</td>\n",
       "      <td>Ice Spice, Central Cee</td>\n",
       "      <td>84</td>\n",
       "    </tr>\n",
       "    <tr>\n",
       "      <th>3</th>\n",
       "      <td>USUG12401967</td>\n",
       "      <td>37i9dQZF1DWYrgs30Ir8ow</td>\n",
       "      <td>1WAjjRMfZjEXtB0lQrAw6Q</td>\n",
       "      <td>Good Luck, Babe!</td>\n",
       "      <td>2024-04-05</td>\n",
       "      <td>day</td>\n",
       "      <td>False</td>\n",
       "      <td>Good Luck, Babe!</td>\n",
       "      <td>https://i.scdn.co/image/ab67616d0000485191b4bc...</td>\n",
       "      <td>Chappell Roan</td>\n",
       "      <td>95</td>\n",
       "    </tr>\n",
       "    <tr>\n",
       "      <th>3</th>\n",
       "      <td>USAT22401341</td>\n",
       "      <td>37i9dQZF1DWYrgs30Ir8ow</td>\n",
       "      <td>2lIZef4lzdvZkiiCzvPKj7</td>\n",
       "      <td>360</td>\n",
       "      <td>2024-06-07</td>\n",
       "      <td>day</td>\n",
       "      <td>True</td>\n",
       "      <td>BRAT</td>\n",
       "      <td>https://i.scdn.co/image/ab67616d0000485188e382...</td>\n",
       "      <td>Charli xcx</td>\n",
       "      <td>86</td>\n",
       "    </tr>\n",
       "    <tr>\n",
       "      <th>3</th>\n",
       "      <td>USUG12400968</td>\n",
       "      <td>37i9dQZF1DWYrgs30Ir8ow</td>\n",
       "      <td>5ylbxH7EqpsmHZCRuiYewS</td>\n",
       "      <td>Si Antes Te Hubiera Conocido</td>\n",
       "      <td>2024-06-21</td>\n",
       "      <td>day</td>\n",
       "      <td>False</td>\n",
       "      <td>Si Antes Te Hubiera Conocido</td>\n",
       "      <td>https://i.scdn.co/image/ab67616d00004851491678...</td>\n",
       "      <td>KAROL G</td>\n",
       "      <td>94</td>\n",
       "    </tr>\n",
       "  </tbody>\n",
       "</table>\n",
       "</div>"
      ],
      "text/plain": [
       "                      song_id             playlist_id                album_id  \\\n",
       "num_occurrances                                                                 \n",
       "3                USSM12402296  37i9dQZF1DWYrgs30Ir8ow  17R63Sb8OrPikc2R4mlpdC   \n",
       "3                USUG12403632  37i9dQZF1DWYrgs30Ir8ow  1SiWjniEb94wSFZ5YjZDHr   \n",
       "3                USUG12401967  37i9dQZF1DWYrgs30Ir8ow  1WAjjRMfZjEXtB0lQrAw6Q   \n",
       "3                USAT22401341  37i9dQZF1DWYrgs30Ir8ow  2lIZef4lzdvZkiiCzvPKj7   \n",
       "3                USUG12400968  37i9dQZF1DWYrgs30Ir8ow  5ylbxH7EqpsmHZCRuiYewS   \n",
       "\n",
       "                                           title release_date  \\\n",
       "num_occurrances                                                 \n",
       "3                                          GIRLS   2024-06-28   \n",
       "3                Did It First (with Central Cee)   2024-07-11   \n",
       "3                               Good Luck, Babe!   2024-04-05   \n",
       "3                                            360   2024-06-07   \n",
       "3                   Si Antes Te Hubiera Conocido   2024-06-21   \n",
       "\n",
       "                release_date_precision  is_explicit  \\\n",
       "num_occurrances                                       \n",
       "3                                  day         True   \n",
       "3                                  day         True   \n",
       "3                                  day        False   \n",
       "3                                  day         True   \n",
       "3                                  day        False   \n",
       "\n",
       "                                      album_name  \\\n",
       "num_occurrances                                    \n",
       "3                                          GIRLS   \n",
       "3                Did It First (with Central Cee)   \n",
       "3                               Good Luck, Babe!   \n",
       "3                                           BRAT   \n",
       "3                   Si Antes Te Hubiera Conocido   \n",
       "\n",
       "                                                         image_url  \\\n",
       "num_occurrances                                                      \n",
       "3                https://i.scdn.co/image/ab67616d00004851c8af72...   \n",
       "3                https://i.scdn.co/image/ab67616d00004851dc9f83...   \n",
       "3                https://i.scdn.co/image/ab67616d0000485191b4bc...   \n",
       "3                https://i.scdn.co/image/ab67616d0000485188e382...   \n",
       "3                https://i.scdn.co/image/ab67616d00004851491678...   \n",
       "\n",
       "                                artists  popularity  \n",
       "num_occurrances                                      \n",
       "3                         The Kid LAROI          85  \n",
       "3                Ice Spice, Central Cee          84  \n",
       "3                         Chappell Roan          95  \n",
       "3                            Charli xcx          86  \n",
       "3                               KAROL G          94  "
      ]
     },
     "execution_count": 7,
     "metadata": {},
     "output_type": "execute_result"
    }
   ],
   "source": [
    "# The output of this cell motivates the creation of value counts variable\n",
    "songs['num_occurrances'] = songs['song_id'].map(songs['song_id'].value_counts())\n",
    "songs.loc[songs['num_occurrances'] > 2].set_index('num_occurrances').head()"
   ]
  },
  {
   "cell_type": "markdown",
   "metadata": {},
   "source": [
    "Additionally, multiple songs can come from the same album. For that reason we split the `songs` table into two parts: variables related strictly to songs and related to the albums. As the next step, we create a table that represents the relation between the songs and the albums they are part of. Similar relation holds for songs and playlists, which is reflected in the code below."
   ]
  },
  {
   "cell_type": "code",
   "execution_count": 8,
   "metadata": {},
   "outputs": [],
   "source": [
    "albums = songs[['album_id', 'album_name', 'release_date', 'release_date_precision', 'image_url']]\n",
    "song_album_mapping = songs[['song_id', 'album_id']]\n",
    "# The playlist table was created at the top of the notebook\n",
    "song_playlist_mapping = songs[['song_id', 'playlist_id']]\n",
    "songs = songs.drop(columns=['album_id', 'album_name', 'release_date', 'release_date_precision', 'image_url', 'playlist_id'])"
   ]
  },
  {
   "cell_type": "markdown",
   "metadata": {},
   "source": [
    "Finally, we check if the dataset has observations for which variables that will be used as keys in the database have the same values. We need to treat such values carefully as in later stage they may cause an error."
   ]
  },
  {
   "cell_type": "code",
   "execution_count": 9,
   "metadata": {},
   "outputs": [
    {
     "name": "stdout",
     "output_type": "stream",
     "text": [
      "album_id                album_name  release_date  release_date_precision  image_url                                                       \n",
      "151w1FgRZfnKZA9FEcg9Z3  Midnights   2022-10-21    day                     https://i.scdn.co/image/ab67616d00004851bb54dde68cd23e2a268ae0f5    10\n",
      "Name: count, dtype: int64\n",
      "playlist_id             name         description                                                      num_followers\n",
      "37i9dQZF1DWSBi5svWQ9Nk  Hot Hits NL  De 50 populairste hits van nu. Cover: Roxy Dekker & Ronnie Flex  922309           1\n",
      "Name: count, dtype: int64\n",
      "song_id       title                     is_explicit  artists   popularity  num_occurrances\n",
      "GBAYE2400676  feelslikeimfallinginlove  False        Coldplay  85          5                  5\n",
      "Name: count, dtype: int64\n",
      "song_id       album_id              \n",
      "GBAYE2400676  6RjTapeTvms8jSeIRGc5Ve    5\n",
      "Name: count, dtype: int64\n",
      "song_id       playlist_id           \n",
      "ZA34K2401960  37i9dQZF1DXcRXFNfZr7Tp    1\n",
      "Name: count, dtype: int64\n"
     ]
    }
   ],
   "source": [
    "print(albums.value_counts().head(1))\n",
    "print(playlists.value_counts().head(1))\n",
    "print(songs.value_counts().head(1))\n",
    "print(song_album_mapping.value_counts().head(1))\n",
    "print(song_playlist_mapping.value_counts().head(1))"
   ]
  },
  {
   "cell_type": "markdown",
   "metadata": {},
   "source": [
    "As expected, we have duplicates in the `albums`, `songs` and `song_album_mapping`. To resolve the future issue of dupicates, we drop them before we proceed further."
   ]
  },
  {
   "cell_type": "code",
   "execution_count": 10,
   "metadata": {},
   "outputs": [],
   "source": [
    "albums = albums.drop_duplicates(subset='album_id')\n",
    "songs = songs.drop_duplicates(subset='song_id')\n",
    "song_album_mapping = song_album_mapping.drop_duplicates()"
   ]
  },
  {
   "cell_type": "markdown",
   "metadata": {},
   "source": [
    "# Creation of relational database\n",
    "Having cleaned and divided the data into meaningful tables, we can now create a database to store all the information. We will be using [SQLite](https://www.sqlite.org/index.html) because the database can be stored locally and the limitation of maximum one open connection is not an issue for this project."
   ]
  },
  {
   "cell_type": "code",
   "execution_count": 11,
   "metadata": {},
   "outputs": [],
   "source": [
    "%load_ext sql\n",
    "%config SqlMagic.autocommit=True"
   ]
  },
  {
   "cell_type": "markdown",
   "metadata": {},
   "source": [
    "### Modification of data types\n",
    "Initially, to ensure efficient and reliable storage of information in the database, I wanted to change the column types to most efficient types. After visiting the [Datatypes page of SQLite](https://www.sqlite.org/datatype3.html) I realized that all values are automatically transformed into one of five generic types: NULL, INTEGER, REAL, TEXT, BLOB. For that reason, I refrain from optimizing the data types."
   ]
  },
  {
   "cell_type": "code",
   "execution_count": 12,
   "metadata": {},
   "outputs": [
    {
     "name": "stdout",
     "output_type": "stream",
     "text": [
      "                 album_id album_name release_date release_date_precision  \\\n",
      "0  17R63Sb8OrPikc2R4mlpdC      GIRLS   2024-06-28                    day   \n",
      "\n",
      "                                           image_url  \n",
      "0  https://i.scdn.co/image/ab67616d00004851c8af72...  \n",
      "        song_id  title  is_explicit        artists  popularity  \\\n",
      "0  USSM12402296  GIRLS         True  The Kid LAROI          85   \n",
      "\n",
      "   num_occurrances  \n",
      "0                3  \n",
      "        song_id                album_id\n",
      "0  USSM12402296  17R63Sb8OrPikc2R4mlpdC\n",
      "        song_id             playlist_id\n",
      "0  USSM12402296  37i9dQZF1DWYrgs30Ir8ow\n",
      "              playlist_id        name  \\\n",
      "0  37i9dQZF1DWYrgs30Ir8ow  Fresh Hits   \n",
      "\n",
      "                                       description  num_followers  \n",
      "0  Altijd fris in Fresh Hits. Cover: The Kid LAROI          27226  \n"
     ]
    }
   ],
   "source": [
    "print(albums.head(1))\n",
    "print(songs.head(1))\n",
    "print(song_album_mapping.head(1))\n",
    "print(song_playlist_mapping.head(1))\n",
    "print(playlists.head(1))"
   ]
  },
  {
   "cell_type": "markdown",
   "metadata": {},
   "source": [
    "Below, all tables' schemas are created with appropriate choice of data types and keys."
   ]
  },
  {
   "cell_type": "code",
   "execution_count": 13,
   "metadata": {
    "vscode": {
     "languageId": "sql"
    }
   },
   "outputs": [
    {
     "data": {
      "text/html": [
       "<span style=\"None\">Connecting to &#x27;db&#x27;</span>"
      ],
      "text/plain": [
       "Connecting to 'db'"
      ]
     },
     "metadata": {},
     "output_type": "display_data"
    },
    {
     "data": {
      "text/html": [
       "<table>\n",
       "    <thead>\n",
       "        <tr>\n",
       "        </tr>\n",
       "    </thead>\n",
       "    <tbody>\n",
       "    </tbody>\n",
       "</table>"
      ],
      "text/plain": [
       "++\n",
       "||\n",
       "++\n",
       "++"
      ]
     },
     "execution_count": 13,
     "metadata": {},
     "output_type": "execute_result"
    }
   ],
   "source": [
    "%%sql sqlite:///../data/clean/spotify_playlists.db --alias db\n",
    "\n",
    "CREATE TABLE albums\n",
    "(\n",
    "    album_id CHAR(22) PRIMARY KEY,\n",
    "    album_name VARCHAR(50),\n",
    "    release_date DATE,\n",
    "    image_url CHAR(64)\n",
    ");\n",
    "\n",
    "CREATE TABLE songs\n",
    "(\n",
    "    song_id CHAR(12) PRIMARY KEY,\n",
    "    title VARCHAR(50),\n",
    "    is_explicit BOOLEAN,\n",
    "    artists VARCHAR(50),\n",
    "    popularity TINYINT,\n",
    "    num_occurrances TINYINT\n",
    ");\n",
    "\n",
    "CREATE TABLE song_album_map\n",
    "(\n",
    "    song_id CHAR(12),\n",
    "    album_id CHAR(22),\n",
    "    PRIMARY KEY (song_id, album_id),\n",
    "    \n",
    ");\n",
    "\n",
    "CREATE TABLE song_playlist_map\n",
    "(\n",
    "    song_id CHAR(12),\n",
    "    playlist_id CHAR(22),\n",
    "    PRIMARY KEY (song_id, playlist_id)\n",
    ");\n",
    "\n",
    "CREATE TABLE playlists\n",
    "(\n",
    "    playlist_id CHAR(22) PRIMARY KEY,\n",
    "    name VARCHAR(50),\n",
    "    description VARCHAR(100),\n",
    "    num_followers INT\n",
    ");"
   ]
  },
  {
   "cell_type": "markdown",
   "metadata": {},
   "source": [
    "Now, we can populate the tables with the cleaned data."
   ]
  },
  {
   "cell_type": "code",
   "execution_count": 14,
   "metadata": {
    "vscode": {
     "languageId": "sql"
    }
   },
   "outputs": [
    {
     "data": {
      "text/plain": [
       "1938"
      ]
     },
     "execution_count": 14,
     "metadata": {},
     "output_type": "execute_result"
    }
   ],
   "source": [
    "conn = sqlite3.connect('../data/clean/spotify_playlists.db')\n",
    "\n",
    "albums.to_sql('albums', conn, if_exists='append', index=False)\n",
    "songs.to_sql('songs', conn, if_exists='append', index=False)\n",
    "playlists.to_sql('playlists', conn, if_exists='append', index=False)\n",
    "song_album_mapping.to_sql('song_album_map', conn, if_exists='append', index=False)\n",
    "song_playlist_mapping.to_sql('song_playlist_map', conn, if_exists='append', index=False)"
   ]
  }
 ],
 "metadata": {
  "kernelspec": {
   "display_name": "me204env",
   "language": "python",
   "name": "python3"
  },
  "language_info": {
   "codemirror_mode": {
    "name": "ipython",
    "version": 3
   },
   "file_extension": ".py",
   "mimetype": "text/x-python",
   "name": "python",
   "nbconvert_exporter": "python",
   "pygments_lexer": "ipython3",
   "version": "3.12.4"
  }
 },
 "nbformat": 4,
 "nbformat_minor": 2
}
