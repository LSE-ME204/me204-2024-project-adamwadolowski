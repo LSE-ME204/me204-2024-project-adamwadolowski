{
 "cells": [
  {
   "cell_type": "markdown",
   "metadata": {},
   "source": [
    "# Exploratory Data Analysis\n",
    "In this notebook, I get insights into the dataset using curiosty driven questions."
   ]
  },
  {
   "cell_type": "code",
   "execution_count": 1,
   "metadata": {},
   "outputs": [
    {
     "data": {
      "text/html": [
       "\n",
       "            <div id=\"KrBbRB\"></div>\n",
       "            <script type=\"text/javascript\" data-lets-plot-script=\"library\">\n",
       "                if(!window.letsPlotCallQueue) {\n",
       "                    window.letsPlotCallQueue = [];\n",
       "                }; \n",
       "                window.letsPlotCall = function(f) {\n",
       "                    window.letsPlotCallQueue.push(f);\n",
       "                };\n",
       "                (function() {\n",
       "                    var script = document.createElement(\"script\");\n",
       "                    script.type = \"text/javascript\";\n",
       "                    script.src = \"https://cdn.jsdelivr.net/gh/JetBrains/lets-plot@v4.3.3/js-package/distr/lets-plot.min.js\";\n",
       "                    script.onload = function() {\n",
       "                        window.letsPlotCall = function(f) {f();};\n",
       "                        window.letsPlotCallQueue.forEach(function(f) {f();});\n",
       "                        window.letsPlotCallQueue = [];\n",
       "                        \n",
       "                    };\n",
       "                    script.onerror = function(event) {\n",
       "                        window.letsPlotCall = function(f) {};    // noop\n",
       "                        window.letsPlotCallQueue = [];\n",
       "                        var div = document.createElement(\"div\");\n",
       "                        div.style.color = 'darkred';\n",
       "                        div.textContent = 'Error loading Lets-Plot JS';\n",
       "                        document.getElementById(\"KrBbRB\").appendChild(div);\n",
       "                    };\n",
       "                    var e = document.getElementById(\"KrBbRB\");\n",
       "                    e.appendChild(script);\n",
       "                })()\n",
       "            </script>\n",
       "            "
      ]
     },
     "metadata": {},
     "output_type": "display_data"
    }
   ],
   "source": [
    "# Import necessary libraries\n",
    "\n",
    "import pandas as pd\n",
    "import sqlite3\n",
    "from lets_plot import *\n",
    "\n",
    "LetsPlot.setup_html()\n",
    "%load_ext sql\n",
    "%config SqlMagic.autocommit=True\n"
   ]
  },
  {
   "cell_type": "markdown",
   "metadata": {},
   "source": [
    "## Helper Functions\n",
    "As SQLite cannot store values in the preferable formats (for example Date is stored as TEXT), I make helper functions that will be used when a new data frame is obtained from the database."
   ]
  },
  {
   "cell_type": "code",
   "execution_count": null,
   "metadata": {},
   "outputs": [],
   "source": [
    "\n"
   ]
  },
  {
   "cell_type": "code",
   "execution_count": 2,
   "metadata": {},
   "outputs": [
    {
     "data": {
      "text/html": [
       "<span style=\"None\">Connecting to &#x27;db&#x27;</span>"
      ],
      "text/plain": [
       "Connecting to 'db'"
      ]
     },
     "metadata": {},
     "output_type": "display_data"
    }
   ],
   "source": [
    "# Connect to the database\n",
    "%sql sqlite:///../data//clean/spotify_playlists.db --alias db"
   ]
  },
  {
   "cell_type": "markdown",
   "metadata": {},
   "source": [
    "### Tracks' popularity & explicit content"
   ]
  },
  {
   "cell_type": "code",
   "execution_count": 3,
   "metadata": {
    "vscode": {
     "languageId": "sql"
    }
   },
   "outputs": [
    {
     "data": {
      "text/html": [
       "<span style=\"None\">Running query in &#x27;db&#x27;</span>"
      ],
      "text/plain": [
       "Running query in 'db'"
      ]
     },
     "metadata": {},
     "output_type": "display_data"
    }
   ],
   "source": [
    "%%sql\n",
    "\n",
    "tab << SELECT is_explicit, popularity, release_date, title, album_name\n",
    "FROM songs\n",
    "LEFT JOIN song_album_map\n",
    "ON songs.song_id = song_album_map.song_id\n",
    "LEFT JOIN albums\n",
    "ON song_album_map.album_id = albums.album_id\n"
   ]
  },
  {
   "cell_type": "code",
   "execution_count": 4,
   "metadata": {},
   "outputs": [],
   "source": [
    "df = tab.DataFrame()"
   ]
  },
  {
   "cell_type": "code",
   "execution_count": 5,
   "metadata": {},
   "outputs": [
    {
     "data": {
      "text/plain": [
       "is_explicit           category\n",
       "popularity               int64\n",
       "release_date    datetime64[ns]\n",
       "title                   object\n",
       "album_name              object\n",
       "dtype: object"
      ]
     },
     "execution_count": 5,
     "metadata": {},
     "output_type": "execute_result"
    }
   ],
   "source": [
    "df['release_date'] = pd.to_datetime(df['release_date'], format = 'ISO8601')\n",
    "df['is_explicit'] = df['is_explicit'].astype('category')\n",
    "df.dtypes"
   ]
  },
  {
   "cell_type": "code",
   "execution_count": 6,
   "metadata": {},
   "outputs": [],
   "source": [
    "df = df.sort_values('release_date')"
   ]
  },
  {
   "cell_type": "code",
   "execution_count": 7,
   "metadata": {},
   "outputs": [],
   "source": [
    "# Categorical type resulted in incorrectly formated plots so I changed the type to str\n",
    "df['is_explicit'] = df['is_explicit'].astype(str)"
   ]
  },
  {
   "cell_type": "markdown",
   "metadata": {},
   "source": [
    "# The Story\n",
    "Let's inspect how popular each playlists is."
   ]
  },
  {
   "cell_type": "code",
   "execution_count": 34,
   "metadata": {},
   "outputs": [
    {
     "data": {
      "text/html": [
       "<span style=\"None\">Running query in &#x27;db&#x27;</span>"
      ],
      "text/plain": [
       "Running query in 'db'"
      ]
     },
     "metadata": {},
     "output_type": "display_data"
    },
    {
     "data": {
      "text/html": [
       "   <div id=\"BpAYwQ\"></div>\n",
       "   <script type=\"text/javascript\" data-lets-plot-script=\"plot\">\n",
       "       (function() {\n",
       "           var plotSpec={\n",
       "\"data\":{\n",
       "\"name\":[\"Route Americana\",\"Mooi Nederlands\",\"Fresh Hits\",\"Made in NL\",\"Platinum Hits\",\"Fresh Pop\",\"Quality Time\",\"Oude Meezingers ❤️‍🔥\",\"Je Moerstaal\",\"Beautiful Day\",\"New Music Friday NL\",\"Blijf Luisteren!\",\"Beste van NL\",\"Taylor Swift | The Eras Tour Official Setlist\",\"Summer 2024\",\"Britpop, Etc.\",\"Summer Throwbacks\",\"Soul 'n' the City\",\"Hot Hits NL\",\"just hits\",\"Mega Hit Mix\",\"Songs to Sing in the Car\",\"Today’s Top Hits\"],\n",
       "\"num_followers\":[7762.0,25785.0,27226.0,33618.0,62755.0,97400.0,99098.0,137617.0,163146.0,163478.0,263024.0,475637.0,491430.0,491895.0,601654.0,646391.0,718399.0,769912.0,922309.0,2894288.0,7940580.0,1.0916303E7,3.4779322E7]\n",
       "},\n",
       "\"mapping\":{\n",
       "\"x\":\"name\",\n",
       "\"y\":\"num_followers\"\n",
       "},\n",
       "\"data_meta\":{\n",
       "},\n",
       "\"coord\":{\n",
       "\"name\":\"flip\",\n",
       "\"flip\":true\n",
       "},\n",
       "\"kind\":\"plot\",\n",
       "\"scales\":[{\n",
       "\"aesthetic\":\"x\",\n",
       "\"trans\":\"log10\"\n",
       "}],\n",
       "\"layers\":[{\n",
       "\"geom\":\"linerange\",\n",
       "\"mapping\":{\n",
       "},\n",
       "\"data_meta\":{\n",
       "},\n",
       "\"data\":{\n",
       "}\n",
       "}],\n",
       "\"metainfo_list\":[]\n",
       "};\n",
       "           var plotContainer = document.getElementById(\"BpAYwQ\");\n",
       "           window.letsPlotCall(function() {{\n",
       "               LetsPlot.buildPlotFromProcessedSpecs(plotSpec, -1, -1, plotContainer);\n",
       "           }});\n",
       "       })();\n",
       "   </script>"
      ]
     },
     "metadata": {},
     "output_type": "display_data"
    }
   ],
   "source": [
    "%sql pop << SELECT * FROM playlists\n",
    "\n",
    "pop = pop.DataFrame()\n",
    "pop = pop.sort_values('num_followers')\n",
    "p1 = ggplot(pop, aes(x='name', y='num_followers')) + geom_linerange() + coord_flip() + scale_x_log10()\n",
    "p1.show()"
   ]
  },
  {
   "cell_type": "markdown",
   "metadata": {},
   "source": [
    "## First plot\n",
    "group by decades"
   ]
  },
  {
   "cell_type": "code",
   "execution_count": 17,
   "metadata": {},
   "outputs": [
    {
     "data": {
      "text/html": [
       "   <div id=\"sO7PQU\"></div>\n",
       "   <script type=\"text/javascript\" data-lets-plot-script=\"plot\">\n",
       "       (function() {\n",
       "           var plotSpec={\n",
       "\"__error_message\":\"Not an aesthetic: 'tooltip'\"\n",
       "};\n",
       "           var plotContainer = document.getElementById(\"sO7PQU\");\n",
       "           window.letsPlotCall(function() {{\n",
       "               LetsPlot.buildPlotFromProcessedSpecs(plotSpec, -1, -1, plotContainer);\n",
       "           }});\n",
       "       })();\n",
       "   </script>"
      ]
     },
     "metadata": {},
     "output_type": "display_data"
    }
   ],
   "source": [
    "plot = ggplot(df) + \\\n",
    "    geom_point(aes(x='release_date', y='popularity', color='is_explicit', tooltip='name' ), alpha = 0.6) + \\\n",
    "    ggtitle('Songs\\' popularity and Release Date with Explicit Content') + \\\n",
    "    ylab('Popularity') + \\\n",
    "    xlab('Date of Release') + \\\n",
    "    scale_x_datetime() + \\\n",
    "    scale_color_manual(values=['black', 'green'], name='Explicit Content', labels=['No', 'Yes'])\n",
    "\n",
    "plot.show()"
   ]
  },
  {
   "cell_type": "markdown",
   "metadata": {},
   "source": [
    "## Second Plot\n"
   ]
  },
  {
   "cell_type": "code",
   "execution_count": null,
   "metadata": {},
   "outputs": [],
   "source": []
  }
 ],
 "metadata": {
  "kernelspec": {
   "display_name": "me204env",
   "language": "python",
   "name": "python3"
  },
  "language_info": {
   "codemirror_mode": {
    "name": "ipython",
    "version": 3
   },
   "file_extension": ".py",
   "mimetype": "text/x-python",
   "name": "python",
   "nbconvert_exporter": "python",
   "pygments_lexer": "ipython3",
   "version": "3.12.4"
  }
 },
 "nbformat": 4,
 "nbformat_minor": 2
}
