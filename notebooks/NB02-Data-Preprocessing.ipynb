{
 "cells": [
  {
   "cell_type": "code",
   "execution_count": 6,
   "metadata": {},
   "outputs": [],
   "source": [
    "import pandas as pd\n",
    "import ast"
   ]
  },
  {
   "cell_type": "code",
   "execution_count": 3,
   "metadata": {},
   "outputs": [
    {
     "data": {
      "text/html": [
       "<div>\n",
       "<style scoped>\n",
       "    .dataframe tbody tr th:only-of-type {\n",
       "        vertical-align: middle;\n",
       "    }\n",
       "\n",
       "    .dataframe tbody tr th {\n",
       "        vertical-align: top;\n",
       "    }\n",
       "\n",
       "    .dataframe thead th {\n",
       "        text-align: right;\n",
       "    }\n",
       "</style>\n",
       "<table border=\"1\" class=\"dataframe\">\n",
       "  <thead>\n",
       "    <tr style=\"text-align: right;\">\n",
       "      <th></th>\n",
       "      <th>playlist_href</th>\n",
       "      <th>followers</th>\n",
       "      <th>songs</th>\n",
       "    </tr>\n",
       "  </thead>\n",
       "  <tbody>\n",
       "    <tr>\n",
       "      <th>0</th>\n",
       "      <td>https://api.spotify.com/v1/playlists/37i9dQZF1...</td>\n",
       "      <td>62714</td>\n",
       "      <td>[{'added_at': '2024-07-05T07:00:10Z', 'added_b...</td>\n",
       "    </tr>\n",
       "    <tr>\n",
       "      <th>1</th>\n",
       "      <td>https://api.spotify.com/v1/playlists/37i9dQZF1...</td>\n",
       "      <td>7934119</td>\n",
       "      <td>[{'added_at': '2023-11-07T15:29:23Z', 'added_b...</td>\n",
       "    </tr>\n",
       "    <tr>\n",
       "      <th>2</th>\n",
       "      <td>https://api.spotify.com/v1/playlists/37i9dQZF1...</td>\n",
       "      <td>769775</td>\n",
       "      <td>[{'added_at': '2024-06-24T10:55:00Z', 'added_b...</td>\n",
       "    </tr>\n",
       "    <tr>\n",
       "      <th>3</th>\n",
       "      <td>https://api.spotify.com/v1/playlists/37i9dQZF1...</td>\n",
       "      <td>163354</td>\n",
       "      <td>[{'added_at': '2024-07-18T22:00:00Z', 'added_b...</td>\n",
       "    </tr>\n",
       "    <tr>\n",
       "      <th>4</th>\n",
       "      <td>https://api.spotify.com/v1/playlists/37i9dQZF1...</td>\n",
       "      <td>703548</td>\n",
       "      <td>[{'added_at': '2024-07-16T02:51:55Z', 'added_b...</td>\n",
       "    </tr>\n",
       "  </tbody>\n",
       "</table>\n",
       "</div>"
      ],
      "text/plain": [
       "                                       playlist_href  followers  \\\n",
       "0  https://api.spotify.com/v1/playlists/37i9dQZF1...      62714   \n",
       "1  https://api.spotify.com/v1/playlists/37i9dQZF1...    7934119   \n",
       "2  https://api.spotify.com/v1/playlists/37i9dQZF1...     769775   \n",
       "3  https://api.spotify.com/v1/playlists/37i9dQZF1...     163354   \n",
       "4  https://api.spotify.com/v1/playlists/37i9dQZF1...     703548   \n",
       "\n",
       "                                               songs  \n",
       "0  [{'added_at': '2024-07-05T07:00:10Z', 'added_b...  \n",
       "1  [{'added_at': '2023-11-07T15:29:23Z', 'added_b...  \n",
       "2  [{'added_at': '2024-06-24T10:55:00Z', 'added_b...  \n",
       "3  [{'added_at': '2024-07-18T22:00:00Z', 'added_b...  \n",
       "4  [{'added_at': '2024-07-16T02:51:55Z', 'added_b...  "
      ]
     },
     "execution_count": 3,
     "metadata": {},
     "output_type": "execute_result"
    }
   ],
   "source": [
    "df = pd.read_csv('../data/raw/spotify_playlists.csv')"
   ]
  },
  {
   "cell_type": "code",
   "execution_count": 4,
   "metadata": {},
   "outputs": [
    {
     "data": {
      "text/html": [
       "<div>\n",
       "<style scoped>\n",
       "    .dataframe tbody tr th:only-of-type {\n",
       "        vertical-align: middle;\n",
       "    }\n",
       "\n",
       "    .dataframe tbody tr th {\n",
       "        vertical-align: top;\n",
       "    }\n",
       "\n",
       "    .dataframe thead th {\n",
       "        text-align: right;\n",
       "    }\n",
       "</style>\n",
       "<table border=\"1\" class=\"dataframe\">\n",
       "  <thead>\n",
       "    <tr style=\"text-align: right;\">\n",
       "      <th></th>\n",
       "      <th>playlist_href</th>\n",
       "      <th>followers</th>\n",
       "      <th>songs</th>\n",
       "      <th>playlist_id</th>\n",
       "    </tr>\n",
       "  </thead>\n",
       "  <tbody>\n",
       "    <tr>\n",
       "      <th>0</th>\n",
       "      <td>https://api.spotify.com/v1/playlists/37i9dQZF1...</td>\n",
       "      <td>62714</td>\n",
       "      <td>[{'added_at': '2024-07-05T07:00:10Z', 'added_b...</td>\n",
       "      <td>37i9dQZF1DWVJyzEwVacEu</td>\n",
       "    </tr>\n",
       "    <tr>\n",
       "      <th>1</th>\n",
       "      <td>https://api.spotify.com/v1/playlists/37i9dQZF1...</td>\n",
       "      <td>7934119</td>\n",
       "      <td>[{'added_at': '2023-11-07T15:29:23Z', 'added_b...</td>\n",
       "      <td>37i9dQZF1DXbYM3nMM0oPk</td>\n",
       "    </tr>\n",
       "    <tr>\n",
       "      <th>2</th>\n",
       "      <td>https://api.spotify.com/v1/playlists/37i9dQZF1...</td>\n",
       "      <td>769775</td>\n",
       "      <td>[{'added_at': '2024-06-24T10:55:00Z', 'added_b...</td>\n",
       "      <td>37i9dQZF1DWSXWSaQmvWOB</td>\n",
       "    </tr>\n",
       "    <tr>\n",
       "      <th>3</th>\n",
       "      <td>https://api.spotify.com/v1/playlists/37i9dQZF1...</td>\n",
       "      <td>163354</td>\n",
       "      <td>[{'added_at': '2024-07-18T22:00:00Z', 'added_b...</td>\n",
       "      <td>37i9dQZF1DWUxUko6rcfsK</td>\n",
       "    </tr>\n",
       "    <tr>\n",
       "      <th>4</th>\n",
       "      <td>https://api.spotify.com/v1/playlists/37i9dQZF1...</td>\n",
       "      <td>703548</td>\n",
       "      <td>[{'added_at': '2024-07-16T02:51:55Z', 'added_b...</td>\n",
       "      <td>37i9dQZF1DXd1MXcE8WTXq</td>\n",
       "    </tr>\n",
       "  </tbody>\n",
       "</table>\n",
       "</div>"
      ],
      "text/plain": [
       "                                       playlist_href  followers  \\\n",
       "0  https://api.spotify.com/v1/playlists/37i9dQZF1...      62714   \n",
       "1  https://api.spotify.com/v1/playlists/37i9dQZF1...    7934119   \n",
       "2  https://api.spotify.com/v1/playlists/37i9dQZF1...     769775   \n",
       "3  https://api.spotify.com/v1/playlists/37i9dQZF1...     163354   \n",
       "4  https://api.spotify.com/v1/playlists/37i9dQZF1...     703548   \n",
       "\n",
       "                                               songs             playlist_id  \n",
       "0  [{'added_at': '2024-07-05T07:00:10Z', 'added_b...  37i9dQZF1DWVJyzEwVacEu  \n",
       "1  [{'added_at': '2023-11-07T15:29:23Z', 'added_b...  37i9dQZF1DXbYM3nMM0oPk  \n",
       "2  [{'added_at': '2024-06-24T10:55:00Z', 'added_b...  37i9dQZF1DWSXWSaQmvWOB  \n",
       "3  [{'added_at': '2024-07-18T22:00:00Z', 'added_b...  37i9dQZF1DWUxUko6rcfsK  \n",
       "4  [{'added_at': '2024-07-16T02:51:55Z', 'added_b...  37i9dQZF1DXd1MXcE8WTXq  "
      ]
     },
     "execution_count": 4,
     "metadata": {},
     "output_type": "execute_result"
    }
   ],
   "source": [
    "df['playlist_id'] = df['playlist_href'].apply(lambda x: x.split('/')[-1])"
   ]
  },
  {
   "cell_type": "code",
   "execution_count": 7,
   "metadata": {},
   "outputs": [
    {
     "data": {
      "text/plain": [
       "list"
      ]
     },
     "execution_count": 7,
     "metadata": {},
     "output_type": "execute_result"
    }
   ],
   "source": [
    "df['songs'] = df['songs'].apply(lambda x: ast.literal_eval(x))\n"
   ]
  },
  {
   "cell_type": "code",
   "execution_count": 9,
   "metadata": {},
   "outputs": [
    {
     "name": "stdout",
     "output_type": "stream",
     "text": [
      "37i9dQZF1DWVJyzEwVacEu\n"
     ]
    }
   ],
   "source": [
    "# chatGPT helped here\n",
    "df['songs'] = [songs + [playlist_id] for songs, playlist_id in zip(df['songs'], df['playlist_id'])]\n"
   ]
  },
  {
   "cell_type": "code",
   "execution_count": 12,
   "metadata": {},
   "outputs": [
    {
     "name": "stdout",
     "output_type": "stream",
     "text": [
      "{'added_at': '2024-07-05T07:00:10Z', 'added_by': {'external_urls': {'spotify': 'https://open.spotify.com/user/'}, 'href': 'https://api.spotify.com/v1/users/', 'id': '', 'type': 'user', 'uri': 'spotify:user:'}, 'is_local': False, 'primary_color': None, 'track': {'preview_url': 'https://p.scdn.co/mp3-preview/79974360a0c50f9ca60418e4daee587817f8bf61?cid=c6c3034f66334194b102a3bdaf0c3ea7', 'available_markets': ['AR', 'AU', 'AT', 'BE', 'BO', 'BR', 'BG', 'CA', 'CL', 'CO', 'CR', 'CY', 'CZ', 'DK', 'DO', 'DE', 'EC', 'EE', 'SV', 'FI', 'FR', 'GR', 'GT', 'HN', 'HK', 'HU', 'IS', 'IE', 'IT', 'LV', 'LT', 'LU', 'MY', 'MT', 'MX', 'NL', 'NZ', 'NI', 'NO', 'PA', 'PY', 'PE', 'PH', 'PL', 'PT', 'SG', 'SK', 'ES', 'SE', 'CH', 'TW', 'TR', 'UY', 'US', 'GB', 'AD', 'LI', 'MC', 'ID', 'JP', 'TH', 'VN', 'RO', 'IL', 'ZA', 'SA', 'AE', 'BH', 'QA', 'OM', 'KW', 'EG', 'MA', 'DZ', 'TN', 'LB', 'JO', 'PS', 'IN', 'KZ', 'MD', 'UA', 'AL', 'BA', 'HR', 'ME', 'MK', 'RS', 'SI', 'KR', 'BD', 'PK', 'LK', 'GH', 'KE', 'NG', 'TZ', 'UG', 'AG', 'AM', 'BS', 'BB', 'BZ', 'BT', 'BW', 'BF', 'CV', 'CW', 'DM', 'FJ', 'GM', 'GE', 'GD', 'GW', 'GY', 'HT', 'JM', 'KI', 'LS', 'LR', 'MW', 'MV', 'ML', 'MH', 'FM', 'NA', 'NR', 'NE', 'PW', 'PG', 'PR', 'WS', 'SM', 'ST', 'SN', 'SC', 'SL', 'SB', 'KN', 'LC', 'VC', 'SR', 'TL', 'TO', 'TT', 'TV', 'VU', 'AZ', 'BN', 'BI', 'KH', 'CM', 'TD', 'KM', 'GQ', 'SZ', 'GA', 'GN', 'KG', 'LA', 'MO', 'MR', 'MN', 'NP', 'RW', 'TG', 'UZ', 'ZW', 'BJ', 'MG', 'MU', 'MZ', 'AO', 'CI', 'DJ', 'ZM', 'CD', 'CG', 'IQ', 'LY', 'TJ', 'VE', 'ET', 'XK'], 'explicit': False, 'type': 'track', 'episode': False, 'track': True, 'album': {'available_markets': ['AR', 'AU', 'AT', 'BE', 'BO', 'BR', 'BG', 'CA', 'CL', 'CO', 'CR', 'CY', 'CZ', 'DK', 'DO', 'DE', 'EC', 'EE', 'SV', 'FI', 'FR', 'GR', 'GT', 'HN', 'HK', 'HU', 'IS', 'IE', 'IT', 'LV', 'LT', 'LU', 'MY', 'MT', 'MX', 'NL', 'NZ', 'NI', 'NO', 'PA', 'PY', 'PE', 'PH', 'PL', 'PT', 'SG', 'SK', 'ES', 'SE', 'CH', 'TW', 'TR', 'UY', 'US', 'GB', 'AD', 'LI', 'MC', 'ID', 'JP', 'TH', 'VN', 'RO', 'IL', 'ZA', 'SA', 'AE', 'BH', 'QA', 'OM', 'KW', 'EG', 'MA', 'DZ', 'TN', 'LB', 'JO', 'PS', 'IN', 'KZ', 'MD', 'UA', 'AL', 'BA', 'HR', 'ME', 'MK', 'RS', 'SI', 'KR', 'BD', 'PK', 'LK', 'GH', 'KE', 'NG', 'TZ', 'UG', 'AG', 'AM', 'BS', 'BB', 'BZ', 'BT', 'BW', 'BF', 'CV', 'CW', 'DM', 'FJ', 'GM', 'GE', 'GD', 'GW', 'GY', 'HT', 'JM', 'KI', 'LS', 'LR', 'MW', 'MV', 'ML', 'MH', 'FM', 'NA', 'NR', 'NE', 'PW', 'PG', 'PR', 'WS', 'SM', 'ST', 'SN', 'SC', 'SL', 'SB', 'KN', 'LC', 'VC', 'SR', 'TL', 'TO', 'TT', 'TV', 'VU', 'AZ', 'BN', 'BI', 'KH', 'CM', 'TD', 'KM', 'GQ', 'SZ', 'GA', 'GN', 'KG', 'LA', 'MO', 'MR', 'MN', 'NP', 'RW', 'TG', 'UZ', 'ZW', 'BJ', 'MG', 'MU', 'MZ', 'AO', 'CI', 'DJ', 'ZM', 'CD', 'CG', 'IQ', 'LY', 'TJ', 'VE', 'ET', 'XK'], 'type': 'album', 'album_type': 'album', 'href': 'https://api.spotify.com/v1/albums/7nacKlk586eLRBSIsrk9DB', 'id': '7nacKlk586eLRBSIsrk9DB', 'images': [{'url': 'https://i.scdn.co/image/ab67616d0000b2731a0323cc23419360a34a3ace', 'width': 640, 'height': 640}, {'url': 'https://i.scdn.co/image/ab67616d00001e021a0323cc23419360a34a3ace', 'width': 300, 'height': 300}, {'url': 'https://i.scdn.co/image/ab67616d000048511a0323cc23419360a34a3ace', 'width': 64, 'height': 64}], 'name': \"I've Tried Everything But Therapy (Part 1)\", 'release_date': '2023-09-15', 'release_date_precision': 'day', 'uri': 'spotify:album:7nacKlk586eLRBSIsrk9DB', 'artists': [{'external_urls': {'spotify': 'https://open.spotify.com/artist/33qOK5uJ8AR2xuQQAhHump'}, 'href': 'https://api.spotify.com/v1/artists/33qOK5uJ8AR2xuQQAhHump', 'id': '33qOK5uJ8AR2xuQQAhHump', 'name': 'Teddy Swims', 'type': 'artist', 'uri': 'spotify:artist:33qOK5uJ8AR2xuQQAhHump'}], 'external_urls': {'spotify': 'https://open.spotify.com/album/7nacKlk586eLRBSIsrk9DB'}, 'total_tracks': 10}, 'artists': [{'external_urls': {'spotify': 'https://open.spotify.com/artist/33qOK5uJ8AR2xuQQAhHump'}, 'href': 'https://api.spotify.com/v1/artists/33qOK5uJ8AR2xuQQAhHump', 'id': '33qOK5uJ8AR2xuQQAhHump', 'name': 'Teddy Swims', 'type': 'artist', 'uri': 'spotify:artist:33qOK5uJ8AR2xuQQAhHump'}], 'disc_number': 1, 'track_number': 4, 'duration_ms': 212648, 'external_ids': {'isrc': 'USWB12302870'}, 'external_urls': {'spotify': 'https://open.spotify.com/track/3dj4wgM3cPeuLwMNHDuBon'}, 'href': 'https://api.spotify.com/v1/tracks/3dj4wgM3cPeuLwMNHDuBon', 'id': '3dj4wgM3cPeuLwMNHDuBon', 'name': 'The Door', 'popularity': 85, 'uri': 'spotify:track:3dj4wgM3cPeuLwMNHDuBon', 'is_local': False}, 'video_thumbnail': {'url': None}}\n"
     ]
    }
   ],
   "source": [
    "song = df['songs'][0][0]\n",
    "\n",
    "print(song)\n",
    "\n",
    "#del song[['added_by', 'is_local', 'primary_color']]"
   ]
  },
  {
   "cell_type": "code",
   "execution_count": 8,
   "metadata": {},
   "outputs": [
    {
     "data": {
      "text/plain": [
       "[1, 2, 3]"
      ]
     },
     "execution_count": 8,
     "metadata": {},
     "output_type": "execute_result"
    }
   ],
   "source": [
    "def clean_song_data(song):\n",
    "    del song[]\n",
    "\n",
    "def clean_playlist_data(songs_list):\n",
    "    "
   ]
  }
 ],
 "metadata": {
  "kernelspec": {
   "display_name": "me204env",
   "language": "python",
   "name": "python3"
  },
  "language_info": {
   "codemirror_mode": {
    "name": "ipython",
    "version": 3
   },
   "file_extension": ".py",
   "mimetype": "text/x-python",
   "name": "python",
   "nbconvert_exporter": "python",
   "pygments_lexer": "ipython3",
   "version": "3.12.4"
  }
 },
 "nbformat": 4,
 "nbformat_minor": 2
}
