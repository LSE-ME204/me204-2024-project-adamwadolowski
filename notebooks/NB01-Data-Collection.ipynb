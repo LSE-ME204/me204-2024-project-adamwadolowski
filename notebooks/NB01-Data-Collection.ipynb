{
 "cells": [
  {
   "cell_type": "markdown",
   "metadata": {},
   "source": [
    "This notebook requests the access token to the Spotify API, collects and saves raw data in the `.json` format."
   ]
  },
  {
   "cell_type": "code",
   "execution_count": 1,
   "metadata": {},
   "outputs": [],
   "source": [
    "# Import necessary packages\n",
    "\n",
    "from requests import post,get\n",
    "import json\n",
    "import numpy as np\n",
    "import pandas as pd"
   ]
  },
  {
   "cell_type": "markdown",
   "metadata": {},
   "source": [
    "Token endpoint URI and the format of the request is based on the [information page](https://developer.spotify.com/documentation/web-api/tutorials/getting-started#create-an-app) of Spotify."
   ]
  },
  {
   "cell_type": "code",
   "execution_count": 2,
   "metadata": {},
   "outputs": [
    {
     "name": "stdout",
     "output_type": "stream",
     "text": [
      "{'access_token': 'BQDy0--aBjMFJ8otF54Fl_dB2x1aHf8yQHCkowdsPsiP7XUUgWNziKcweDXlUfTvIKVU4rJ8tUEkpCRJNBtnG5rJPDjvoY1tpGN3DGp4lgWwjlSbYag', 'token_type': 'Bearer', 'expires_in': 3600}\n"
     ]
    }
   ],
   "source": [
    "with open(\"../.env\", \"r\") as f:\n",
    "    credentials = json.load(f)\n",
    "\n",
    "\n",
    "url = \"https://accounts.spotify.com/api/token\"\n",
    "\n",
    "headers = {\"Content-Type\": \"application/x-www-form-urlencoded\"}\n",
    "\n",
    "data = {\n",
    "    \"grant_type\": \"client_credentials\",\n",
    "    \"client_id\": credentials[\"CLIENT_ID\"],  \n",
    "    \"client_secret\": credentials[\"CLIENT_SECRET\"]\n",
    "}\n",
    "\n",
    "# Make the POST request\n",
    "response = post(url, headers=headers, data=data)\n",
    "\n",
    "# Check the response status and print the token if successful\n",
    "if response.status_code == 200:\n",
    "    token_info = response.json()\n",
    "    access_token = token_info['access_token']\n",
    "    print(token_info)\n",
    "else:\n",
    "    print(\"Failed to obtain token:\", response.status_code)\n",
    "    print(response.json())\n",
    "    "
   ]
  },
  {
   "cell_type": "markdown",
   "metadata": {},
   "source": [
    "Having obtained the access token valid for 1 hour, we can start data collection. First, we will collect IDs of all playlists from a categoty in the Netherlands"
   ]
  },
  {
   "cell_type": "code",
   "execution_count": 10,
   "metadata": {},
   "outputs": [],
   "source": [
    "header = {\"Authorization\": \"Bearer \" + access_token}\n",
    "\n",
    "# Pop playlists were selected as they are most popular\n",
    "category = \"pop\"\n",
    "\n",
    "def get_playlists_links(num_of_playlists = 100):\n",
    "\n",
    "    playlist_ids = []\n",
    "    # maximum number of items to return is set to 50 by Spotify\n",
    "    one_request_max = 50\n",
    "\n",
    "    def extract_links(response):\n",
    "        if response.status_code == 200:\n",
    "            _data_page = response.json()\n",
    "\n",
    "            # TEMPORARY FOR DEBUGGING\n",
    "            with open(\"../data/raw/response.json\", \"w\") as f:\n",
    "                json.dump(_data_page, f)\n",
    "            _df = pd.DataFrame(_data_page[\"playlists\"][\"items\"])\n",
    "            \n",
    "            return _df[\"href\"].tolist()\n",
    "        else:\n",
    "            print(\"Error: \" + str(response.status_code))\n",
    "            print(response.json())\n",
    "            \n",
    "\n",
    "\n",
    "    for num in range(num_of_playlists // one_request_max):\n",
    "        response = get(f\"https://api.spotify.com/v1/browse/categories/{category}/playlists?offset={50*num}&limit=50\", headers=header)\n",
    "        playlist_ids.extend(extract_links(response))\n",
    "\n",
    "    # collect remaining playlists with smaller limit\n",
    "    if num_of_playlists % one_request_max != 0:\n",
    "        response = get(f\"https://api.spotify.com/v1/browse/categories/{category}/playlists?offset={50 * (num_of_playlists // one_request_max)}%limit={num_of_playlists % one_request_max}\", headers=header)\n",
    "        playlist_ids.extend(extract_links(response))\n",
    "\n",
    "    return playlist_ids\n",
    "    "
   ]
  },
  {
   "cell_type": "code",
   "execution_count": 12,
   "metadata": {},
   "outputs": [
    {
     "ename": "KeyError",
     "evalue": "'href'",
     "output_type": "error",
     "traceback": [
      "\u001b[1;31m---------------------------------------------------------------------------\u001b[0m",
      "\u001b[1;31mKeyError\u001b[0m                                  Traceback (most recent call last)",
      "Cell \u001b[1;32mIn[12], line 1\u001b[0m\n\u001b[1;32m----> 1\u001b[0m playlist_urls \u001b[38;5;241m=\u001b[39m \u001b[43mget_playlists_links\u001b[49m\u001b[43m(\u001b[49m\u001b[43m)\u001b[49m\n",
      "Cell \u001b[1;32mIn[10], line 30\u001b[0m, in \u001b[0;36mget_playlists_links\u001b[1;34m(num_of_playlists)\u001b[0m\n\u001b[0;32m     28\u001b[0m \u001b[38;5;28;01mfor\u001b[39;00m num \u001b[38;5;129;01min\u001b[39;00m \u001b[38;5;28mrange\u001b[39m(num_of_playlists \u001b[38;5;241m/\u001b[39m\u001b[38;5;241m/\u001b[39m one_request_max):\n\u001b[0;32m     29\u001b[0m     response \u001b[38;5;241m=\u001b[39m get(\u001b[38;5;124mf\u001b[39m\u001b[38;5;124m\"\u001b[39m\u001b[38;5;124mhttps://api.spotify.com/v1/browse/categories/\u001b[39m\u001b[38;5;132;01m{\u001b[39;00mcategory\u001b[38;5;132;01m}\u001b[39;00m\u001b[38;5;124m/playlists?offset=\u001b[39m\u001b[38;5;132;01m{\u001b[39;00m\u001b[38;5;241m50\u001b[39m\u001b[38;5;241m*\u001b[39mnum\u001b[38;5;132;01m}\u001b[39;00m\u001b[38;5;124m&limit=50\u001b[39m\u001b[38;5;124m\"\u001b[39m, headers\u001b[38;5;241m=\u001b[39mheader)\n\u001b[1;32m---> 30\u001b[0m     playlist_ids\u001b[38;5;241m.\u001b[39mextend(\u001b[43mextract_links\u001b[49m\u001b[43m(\u001b[49m\u001b[43mresponse\u001b[49m\u001b[43m)\u001b[49m)\n\u001b[0;32m     32\u001b[0m \u001b[38;5;66;03m# collect remaining playlists with smaller limit\u001b[39;00m\n\u001b[0;32m     33\u001b[0m \u001b[38;5;28;01mif\u001b[39;00m num_of_playlists \u001b[38;5;241m%\u001b[39m one_request_max \u001b[38;5;241m!=\u001b[39m \u001b[38;5;241m0\u001b[39m:\n",
      "Cell \u001b[1;32mIn[10], line 21\u001b[0m, in \u001b[0;36mget_playlists_links.<locals>.extract_links\u001b[1;34m(response)\u001b[0m\n\u001b[0;32m     18\u001b[0m         json\u001b[38;5;241m.\u001b[39mdump(_data_page, f)\n\u001b[0;32m     19\u001b[0m     _df \u001b[38;5;241m=\u001b[39m pd\u001b[38;5;241m.\u001b[39mDataFrame(_data_page[\u001b[38;5;124m\"\u001b[39m\u001b[38;5;124mplaylists\u001b[39m\u001b[38;5;124m\"\u001b[39m][\u001b[38;5;124m\"\u001b[39m\u001b[38;5;124mitems\u001b[39m\u001b[38;5;124m\"\u001b[39m])\n\u001b[1;32m---> 21\u001b[0m     \u001b[38;5;28;01mreturn\u001b[39;00m \u001b[43m_df\u001b[49m\u001b[43m[\u001b[49m\u001b[38;5;124;43m\"\u001b[39;49m\u001b[38;5;124;43mhref\u001b[39;49m\u001b[38;5;124;43m\"\u001b[39;49m\u001b[43m]\u001b[49m\u001b[38;5;241m.\u001b[39mtolist()\n\u001b[0;32m     22\u001b[0m \u001b[38;5;28;01melse\u001b[39;00m:\n\u001b[0;32m     23\u001b[0m     \u001b[38;5;28mprint\u001b[39m(\u001b[38;5;124m\"\u001b[39m\u001b[38;5;124mError: \u001b[39m\u001b[38;5;124m\"\u001b[39m \u001b[38;5;241m+\u001b[39m \u001b[38;5;28mstr\u001b[39m(response\u001b[38;5;241m.\u001b[39mstatus_code))\n",
      "File \u001b[1;32mc:\\Users\\adamw\\miniconda3\\envs\\me204env\\Lib\\site-packages\\pandas\\core\\frame.py:4102\u001b[0m, in \u001b[0;36mDataFrame.__getitem__\u001b[1;34m(self, key)\u001b[0m\n\u001b[0;32m   4100\u001b[0m \u001b[38;5;28;01mif\u001b[39;00m \u001b[38;5;28mself\u001b[39m\u001b[38;5;241m.\u001b[39mcolumns\u001b[38;5;241m.\u001b[39mnlevels \u001b[38;5;241m>\u001b[39m \u001b[38;5;241m1\u001b[39m:\n\u001b[0;32m   4101\u001b[0m     \u001b[38;5;28;01mreturn\u001b[39;00m \u001b[38;5;28mself\u001b[39m\u001b[38;5;241m.\u001b[39m_getitem_multilevel(key)\n\u001b[1;32m-> 4102\u001b[0m indexer \u001b[38;5;241m=\u001b[39m \u001b[38;5;28;43mself\u001b[39;49m\u001b[38;5;241;43m.\u001b[39;49m\u001b[43mcolumns\u001b[49m\u001b[38;5;241;43m.\u001b[39;49m\u001b[43mget_loc\u001b[49m\u001b[43m(\u001b[49m\u001b[43mkey\u001b[49m\u001b[43m)\u001b[49m\n\u001b[0;32m   4103\u001b[0m \u001b[38;5;28;01mif\u001b[39;00m is_integer(indexer):\n\u001b[0;32m   4104\u001b[0m     indexer \u001b[38;5;241m=\u001b[39m [indexer]\n",
      "File \u001b[1;32mc:\\Users\\adamw\\miniconda3\\envs\\me204env\\Lib\\site-packages\\pandas\\core\\indexes\\range.py:417\u001b[0m, in \u001b[0;36mRangeIndex.get_loc\u001b[1;34m(self, key)\u001b[0m\n\u001b[0;32m    415\u001b[0m         \u001b[38;5;28;01mraise\u001b[39;00m \u001b[38;5;167;01mKeyError\u001b[39;00m(key) \u001b[38;5;28;01mfrom\u001b[39;00m \u001b[38;5;21;01merr\u001b[39;00m\n\u001b[0;32m    416\u001b[0m \u001b[38;5;28;01mif\u001b[39;00m \u001b[38;5;28misinstance\u001b[39m(key, Hashable):\n\u001b[1;32m--> 417\u001b[0m     \u001b[38;5;28;01mraise\u001b[39;00m \u001b[38;5;167;01mKeyError\u001b[39;00m(key)\n\u001b[0;32m    418\u001b[0m \u001b[38;5;28mself\u001b[39m\u001b[38;5;241m.\u001b[39m_check_indexing_error(key)\n\u001b[0;32m    419\u001b[0m \u001b[38;5;28;01mraise\u001b[39;00m \u001b[38;5;167;01mKeyError\u001b[39;00m(key)\n",
      "\u001b[1;31mKeyError\u001b[0m: 'href'"
     ]
    }
   ],
   "source": [
    "playlist_urls = get_playlists_links()"
   ]
  },
  {
   "cell_type": "code",
   "execution_count": null,
   "metadata": {},
   "outputs": [
    {
     "data": {
      "text/plain": [
       "22"
      ]
     },
     "execution_count": 15,
     "metadata": {},
     "output_type": "execute_result"
    }
   ],
   "source": [
    "\n",
    "len(set(playlist_urls))"
   ]
  }
 ],
 "metadata": {
  "kernelspec": {
   "display_name": "me204env",
   "language": "python",
   "name": "python3"
  },
  "language_info": {
   "codemirror_mode": {
    "name": "ipython",
    "version": 3
   },
   "file_extension": ".py",
   "mimetype": "text/x-python",
   "name": "python",
   "nbconvert_exporter": "python",
   "pygments_lexer": "ipython3",
   "version": "3.12.4"
  }
 },
 "nbformat": 4,
 "nbformat_minor": 2
}
