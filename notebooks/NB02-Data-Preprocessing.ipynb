{
 "cells": [
  {
   "cell_type": "code",
   "execution_count": 1,
   "metadata": {},
   "outputs": [],
   "source": [
    "# Import necessary packages\n",
    "\n",
    "import pandas as pd\n",
    "import ast\n",
    "import json"
   ]
  },
  {
   "cell_type": "code",
   "execution_count": 2,
   "metadata": {},
   "outputs": [],
   "source": [
    "# Load the dataset\n",
    "df = pd.read_csv('../data/raw/spotify_playlists.csv')"
   ]
  },
  {
   "cell_type": "markdown",
   "metadata": {},
   "source": [
    "# MAKE COMMENT"
   ]
  },
  {
   "cell_type": "code",
   "execution_count": 3,
   "metadata": {},
   "outputs": [],
   "source": [
    "df['playlist_id'] = df['playlist_href'].apply(lambda x: x.split('/')[-1])\n",
    "df['songs'] = df['songs'].apply(lambda x: ast.literal_eval(x))\n",
    "# chatGPT helped here\n",
    "df['songs'] = [songs + [{'playlist_id': playlist_id}] for songs, playlist_id in zip(df['songs'], df['playlist_id'])]"
   ]
  },
  {
   "cell_type": "code",
   "execution_count": 4,
   "metadata": {},
   "outputs": [
    {
     "name": "stdout",
     "output_type": "stream",
     "text": [
      "<class 'pandas.core.frame.DataFrame'>\n",
      "RangeIndex: 23 entries, 0 to 22\n",
      "Data columns (total 6 columns):\n",
      " #   Column         Non-Null Count  Dtype \n",
      "---  ------         --------------  ----- \n",
      " 0   playlist_href  23 non-null     object\n",
      " 1   followers      23 non-null     int64 \n",
      " 2   name           23 non-null     object\n",
      " 3   description    23 non-null     object\n",
      " 4   songs          23 non-null     object\n",
      " 5   playlist_id    23 non-null     object\n",
      "dtypes: int64(1), object(5)\n",
      "memory usage: 1.2+ KB\n"
     ]
    }
   ],
   "source": [
    "df.info()"
   ]
  },
  {
   "cell_type": "code",
   "execution_count": 5,
   "metadata": {},
   "outputs": [],
   "source": [
    "song = df['songs'][0][0]\n",
    "\n",
    "song\n",
    "with open('../data/raw/song.json', 'w') as f:\n",
    "    json.dump(song, f)\n",
    "#del song[['added_by', 'is_local', 'primary_color']]"
   ]
  },
  {
   "cell_type": "code",
   "execution_count": 6,
   "metadata": {},
   "outputs": [],
   "source": [
    "# Copy was made to avoid SettingWithCopyWarning\n",
    "playlists = df[['playlist_id', 'name', 'description']].copy()\n",
    "playlists['num_followers'] = df['followers']\n",
    "playlists['link'] = df['playlist_href']"
   ]
  },
  {
   "cell_type": "code",
   "execution_count": 12,
   "metadata": {},
   "outputs": [],
   "source": [
    "def artist_list_to_string(artists):\n",
    "    str = \"\"\n",
    "\n",
    "    for artist in artists:\n",
    "        str += artist['name'] + \", \"\n",
    "\n",
    "    str = str[:-2]\n",
    "    return str\n",
    "    \n",
    "def clean_song_data(song: list, playlist_id):\n",
    "    row = {}\n",
    "    \n",
    "    row['song_id'] = song['track']['external_ids']['isrc']\n",
    "    row['playlist_id'] = playlist_id\n",
    "    row['album_id'] = song['track']['album']['id']\n",
    "    row['title'] = song['track']['name']\n",
    "    row['release_date'] = song['track']['album']['release_date']\n",
    "    row['release_date_precision'] = song['track']['album']['release_date_precision']\n",
    "    row['explicit'] = song['track']['explicit']\n",
    "    row['album_name'] = song['track']['album']['name']\n",
    "    row['image'] = song['track']['album']['images'][2]['url']\n",
    "    row['artists'] = artist_list_to_string(song['track']['artists'])\n",
    "    row['popularity'] = song['track']['popularity']\n",
    "\n",
    "    return row"
   ]
  },
  {
   "cell_type": "markdown",
   "metadata": {},
   "source": [
    "After creating new functions we are ready to apply them to transform the data into a more managable format."
   ]
  },
  {
   "cell_type": "code",
   "execution_count": 15,
   "metadata": {},
   "outputs": [],
   "source": [
    "songs = df['songs'].apply(lambda song_list: [clean_song_data(song, song_list[-1]['playlist_id']) for song in song_list[:-1]])\n",
    "songs = songs.explode().apply(pd.Series)"
   ]
  }
 ],
 "metadata": {
  "kernelspec": {
   "display_name": "me204env",
   "language": "python",
   "name": "python3"
  },
  "language_info": {
   "codemirror_mode": {
    "name": "ipython",
    "version": 3
   },
   "file_extension": ".py",
   "mimetype": "text/x-python",
   "name": "python",
   "nbconvert_exporter": "python",
   "pygments_lexer": "ipython3",
   "version": "3.12.4"
  }
 },
 "nbformat": 4,
 "nbformat_minor": 2
}
