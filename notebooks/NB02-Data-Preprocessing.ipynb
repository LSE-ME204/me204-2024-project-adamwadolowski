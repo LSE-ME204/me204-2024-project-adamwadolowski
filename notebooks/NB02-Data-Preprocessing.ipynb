{
 "cells": [
  {
   "cell_type": "markdown",
   "metadata": {},
   "source": [
    "# Preprocessing\n",
    "This notebook is responsible for transformation of raw data collected from Spotify's API and adjusting the structure and data types for storage in a relational database."
   ]
  },
  {
   "cell_type": "code",
   "execution_count": 26,
   "metadata": {},
   "outputs": [],
   "source": [
    "# Import necessary packages\n",
    "\n",
    "import os\n",
    "import sqlite3\n",
    "import pandas as pd\n",
    "import ast\n",
    "import json"
   ]
  },
  {
   "cell_type": "code",
   "execution_count": 2,
   "metadata": {},
   "outputs": [],
   "source": [
    "# Load the dataset\n",
    "df = pd.read_csv('../data/raw/spotify_playlists.csv')"
   ]
  },
  {
   "cell_type": "markdown",
   "metadata": {},
   "source": [
    "## Data Extraction\n",
    "We begin by extracting only the information we are interested in and creating separate data frames that later will be transformed into database tables."
   ]
  },
  {
   "cell_type": "code",
   "execution_count": 3,
   "metadata": {},
   "outputs": [],
   "source": [
    "df['playlist_id'] = df['playlist_href'].apply(lambda x: x.split('/')[-1])\n",
    "df['songs'] = df['songs'].apply(lambda x: ast.literal_eval(x))\n",
    "# chatGPT helped here\n",
    "df['songs'] = [songs + [{'playlist_id': playlist_id}] for songs, playlist_id in zip(df['songs'], df['playlist_id'])]"
   ]
  },
  {
   "cell_type": "code",
   "execution_count": 4,
   "metadata": {},
   "outputs": [],
   "source": [
    "# Copy was made to avoid SettingWithCopyWarning\n",
    "playlists = df[['playlist_id', 'name', 'description']].copy()\n",
    "playlists['num_followers'] = df['followers']\n",
    "playlists['link'] = df['playlist_href']"
   ]
  },
  {
   "cell_type": "markdown",
   "metadata": {},
   "source": [
    "Helper functions below are used to create a readily formatted data frame with songs details. `artist_list_to_string` creates a string of artists' names separated by commas (We will use SQLite that cannot store lists), `clean_song_data` extracts only the relevant information for every song."
   ]
  },
  {
   "cell_type": "code",
   "execution_count": 5,
   "metadata": {},
   "outputs": [],
   "source": [
    "def artist_list_to_string(artists):\n",
    "    str = \"\"\n",
    "\n",
    "    for artist in artists:\n",
    "        str += artist['name'] + \", \"\n",
    "\n",
    "    str = str[:-2]\n",
    "    return str\n",
    "    \n",
    "def clean_song_data(song: list, playlist_id):\n",
    "    row = {}\n",
    "    \n",
    "    row['song_id'] = song['track']['external_ids']['isrc']\n",
    "    row['playlist_id'] = playlist_id\n",
    "    row['album_id'] = song['track']['album']['id']\n",
    "    row['title'] = song['track']['name']\n",
    "    row['release_date'] = song['track']['album']['release_date']\n",
    "    row['release_date_precision'] = song['track']['album']['release_date_precision']\n",
    "    row['explicit'] = song['track']['explicit']\n",
    "    row['album_name'] = song['track']['album']['name']\n",
    "    row['image'] = song['track']['album']['images'][2]['url']\n",
    "    row['artists'] = artist_list_to_string(song['track']['artists'])\n",
    "    row['popularity'] = song['track']['popularity']\n",
    "\n",
    "    return row"
   ]
  },
  {
   "cell_type": "markdown",
   "metadata": {},
   "source": [
    "After creating new functions we are ready to apply them to transform the songs data into a more managable format."
   ]
  },
  {
   "cell_type": "code",
   "execution_count": 6,
   "metadata": {},
   "outputs": [],
   "source": [
    "# chatGPT helped here\n",
    "songs = df['songs'].apply(lambda song_list: [clean_song_data(song, song_list[-1]['playlist_id']) for song in song_list[:-1]])\n",
    "songs = songs.explode().apply(pd.Series)"
   ]
  },
  {
   "cell_type": "markdown",
   "metadata": {},
   "source": [
    "## Structuring the data\n",
    "To remove redundant records and minimize the storage required, we further transform the data frames."
   ]
  },
  {
   "cell_type": "markdown",
   "metadata": {},
   "source": [
    "### Check for duplicates\n",
    "First, we investigate the presence of duplicates. Uniqueness of every playlist is ensured by the return statement of the `get_playlists_links` function in the notebook NB01. Naturally, it should be expected that the same song could be present in multiple playlists. To accomodate future exploratory data analysis, we make a new variable representing the number of appearances a song has in all playlists considered."
   ]
  },
  {
   "cell_type": "code",
   "execution_count": 7,
   "metadata": {},
   "outputs": [
    {
     "data": {
      "text/html": [
       "<div>\n",
       "<style scoped>\n",
       "    .dataframe tbody tr th:only-of-type {\n",
       "        vertical-align: middle;\n",
       "    }\n",
       "\n",
       "    .dataframe tbody tr th {\n",
       "        vertical-align: top;\n",
       "    }\n",
       "\n",
       "    .dataframe thead th {\n",
       "        text-align: right;\n",
       "    }\n",
       "</style>\n",
       "<table border=\"1\" class=\"dataframe\">\n",
       "  <thead>\n",
       "    <tr style=\"text-align: right;\">\n",
       "      <th></th>\n",
       "      <th>song_id</th>\n",
       "      <th>playlist_id</th>\n",
       "      <th>album_id</th>\n",
       "      <th>title</th>\n",
       "      <th>release_date</th>\n",
       "      <th>release_date_precision</th>\n",
       "      <th>explicit</th>\n",
       "      <th>album_name</th>\n",
       "      <th>image</th>\n",
       "      <th>artists</th>\n",
       "      <th>popularity</th>\n",
       "    </tr>\n",
       "    <tr>\n",
       "      <th>num_occurances</th>\n",
       "      <th></th>\n",
       "      <th></th>\n",
       "      <th></th>\n",
       "      <th></th>\n",
       "      <th></th>\n",
       "      <th></th>\n",
       "      <th></th>\n",
       "      <th></th>\n",
       "      <th></th>\n",
       "      <th></th>\n",
       "      <th></th>\n",
       "    </tr>\n",
       "  </thead>\n",
       "  <tbody>\n",
       "    <tr>\n",
       "      <th>3</th>\n",
       "      <td>USHR10924519</td>\n",
       "      <td>37i9dQZF1DXd1MXcE8WTXq</td>\n",
       "      <td>64aKkqxc3Ur2LYIKeS5osS</td>\n",
       "      <td>Party In The U.S.A.</td>\n",
       "      <td>2009-01-01</td>\n",
       "      <td>day</td>\n",
       "      <td>False</td>\n",
       "      <td>The Time Of Our Lives</td>\n",
       "      <td>https://i.scdn.co/image/ab67616d00004851d6c3ad...</td>\n",
       "      <td>Miley Cyrus</td>\n",
       "      <td>79</td>\n",
       "    </tr>\n",
       "    <tr>\n",
       "      <th>4</th>\n",
       "      <td>GBARL1800368</td>\n",
       "      <td>37i9dQZF1DXd1MXcE8WTXq</td>\n",
       "      <td>7GEzhoTiqcPYkOprWQu581</td>\n",
       "      <td>One Kiss (with Dua Lipa)</td>\n",
       "      <td>2018-04-06</td>\n",
       "      <td>day</td>\n",
       "      <td>False</td>\n",
       "      <td>One Kiss (with Dua Lipa)</td>\n",
       "      <td>https://i.scdn.co/image/ab67616d00004851d09f96...</td>\n",
       "      <td>Calvin Harris, Dua Lipa</td>\n",
       "      <td>85</td>\n",
       "    </tr>\n",
       "    <tr>\n",
       "      <th>3</th>\n",
       "      <td>USUM71514637</td>\n",
       "      <td>37i9dQZF1DXd1MXcE8WTXq</td>\n",
       "      <td>1sfmaFRbpMEGHH7DGup1wT</td>\n",
       "      <td>Cake By The Ocean</td>\n",
       "      <td>2015-10-23</td>\n",
       "      <td>day</td>\n",
       "      <td>True</td>\n",
       "      <td>SWAAY</td>\n",
       "      <td>https://i.scdn.co/image/ab67616d00004851eed1c8...</td>\n",
       "      <td>DNCE</td>\n",
       "      <td>0</td>\n",
       "    </tr>\n",
       "    <tr>\n",
       "      <th>3</th>\n",
       "      <td>GBARL1401524</td>\n",
       "      <td>37i9dQZF1DXd1MXcE8WTXq</td>\n",
       "      <td>3vLaOYCNCzngDf8QdBg2V1</td>\n",
       "      <td>Uptown Funk (feat. Bruno Mars)</td>\n",
       "      <td>2015-01-12</td>\n",
       "      <td>day</td>\n",
       "      <td>True</td>\n",
       "      <td>Uptown Special</td>\n",
       "      <td>https://i.scdn.co/image/ab67616d00004851e419cc...</td>\n",
       "      <td>Mark Ronson, Bruno Mars</td>\n",
       "      <td>83</td>\n",
       "    </tr>\n",
       "    <tr>\n",
       "      <th>3</th>\n",
       "      <td>AULI01385760</td>\n",
       "      <td>37i9dQZF1DXd1MXcE8WTXq</td>\n",
       "      <td>5S9b8euumqMhQbMk0zzQdH</td>\n",
       "      <td>Riptide</td>\n",
       "      <td>2014-09-08</td>\n",
       "      <td>day</td>\n",
       "      <td>False</td>\n",
       "      <td>Dream Your Life Away (Special Edition)</td>\n",
       "      <td>https://i.scdn.co/image/ab67616d00004851a9929d...</td>\n",
       "      <td>Vance Joy</td>\n",
       "      <td>81</td>\n",
       "    </tr>\n",
       "  </tbody>\n",
       "</table>\n",
       "</div>"
      ],
      "text/plain": [
       "                     song_id             playlist_id                album_id  \\\n",
       "num_occurances                                                                 \n",
       "3               USHR10924519  37i9dQZF1DXd1MXcE8WTXq  64aKkqxc3Ur2LYIKeS5osS   \n",
       "4               GBARL1800368  37i9dQZF1DXd1MXcE8WTXq  7GEzhoTiqcPYkOprWQu581   \n",
       "3               USUM71514637  37i9dQZF1DXd1MXcE8WTXq  1sfmaFRbpMEGHH7DGup1wT   \n",
       "3               GBARL1401524  37i9dQZF1DXd1MXcE8WTXq  3vLaOYCNCzngDf8QdBg2V1   \n",
       "3               AULI01385760  37i9dQZF1DXd1MXcE8WTXq  5S9b8euumqMhQbMk0zzQdH   \n",
       "\n",
       "                                         title release_date  \\\n",
       "num_occurances                                                \n",
       "3                          Party In The U.S.A.   2009-01-01   \n",
       "4                     One Kiss (with Dua Lipa)   2018-04-06   \n",
       "3                            Cake By The Ocean   2015-10-23   \n",
       "3               Uptown Funk (feat. Bruno Mars)   2015-01-12   \n",
       "3                                      Riptide   2014-09-08   \n",
       "\n",
       "               release_date_precision  explicit  \\\n",
       "num_occurances                                    \n",
       "3                                 day     False   \n",
       "4                                 day     False   \n",
       "3                                 day      True   \n",
       "3                                 day      True   \n",
       "3                                 day     False   \n",
       "\n",
       "                                            album_name  \\\n",
       "num_occurances                                           \n",
       "3                                The Time Of Our Lives   \n",
       "4                             One Kiss (with Dua Lipa)   \n",
       "3                                                SWAAY   \n",
       "3                                       Uptown Special   \n",
       "3               Dream Your Life Away (Special Edition)   \n",
       "\n",
       "                                                            image  \\\n",
       "num_occurances                                                      \n",
       "3               https://i.scdn.co/image/ab67616d00004851d6c3ad...   \n",
       "4               https://i.scdn.co/image/ab67616d00004851d09f96...   \n",
       "3               https://i.scdn.co/image/ab67616d00004851eed1c8...   \n",
       "3               https://i.scdn.co/image/ab67616d00004851e419cc...   \n",
       "3               https://i.scdn.co/image/ab67616d00004851a9929d...   \n",
       "\n",
       "                                artists  popularity  \n",
       "num_occurances                                       \n",
       "3                           Miley Cyrus          79  \n",
       "4               Calvin Harris, Dua Lipa          85  \n",
       "3                                  DNCE           0  \n",
       "3               Mark Ronson, Bruno Mars          83  \n",
       "3                             Vance Joy          81  "
      ]
     },
     "execution_count": 7,
     "metadata": {},
     "output_type": "execute_result"
    }
   ],
   "source": [
    "# The output of this cell motivates the creation of value counts variable\n",
    "songs['num_occurances'] = songs['song_id'].map(songs['song_id'].value_counts())\n",
    "songs.loc[songs['num_occurances'] > 2].set_index('num_occurances').head()"
   ]
  },
  {
   "cell_type": "markdown",
   "metadata": {},
   "source": [
    "Additionally, multiple songs can come from the same album. For that reason we split the `songs` table into two parts: variables related strictly to songs and related to the albums. As the next step, we create a table that represents the relation between the songs and the albums they are part of. Similar relation holds for songs and playlists, which is reflected in the code below."
   ]
  },
  {
   "cell_type": "code",
   "execution_count": 8,
   "metadata": {},
   "outputs": [],
   "source": [
    "albums = songs[['album_id', 'album_name', 'release_date', 'release_date_precision', 'image']]\n",
    "song_album_mapping = songs[['song_id', 'album_id']]\n",
    "# The playlist table was created at the top of the notebook\n",
    "song_playlist_mapping = songs[['song_id', 'playlist_id']]\n",
    "songs = songs.drop(columns=['album_id', 'album_name', 'release_date', 'release_date_precision', 'image', 'playlist_id'])"
   ]
  },
  {
   "cell_type": "markdown",
   "metadata": {},
   "source": [
    "Finally, we check if the dataset has observations for which variables that will be used as keys in the database have the same values. We need to treat such values carefully as in later stage they may cause an error."
   ]
  },
  {
   "cell_type": "code",
   "execution_count": 25,
   "metadata": {},
   "outputs": [
    {
     "name": "stdout",
     "output_type": "stream",
     "text": [
      "album_id                album_name  release_date  release_date_precision  image                                                           \n",
      "151w1FgRZfnKZA9FEcg9Z3  Midnights   2022-10-21    day                     https://i.scdn.co/image/ab67616d00004851bb54dde68cd23e2a268ae0f5    10\n",
      "Name: count, dtype: int64\n",
      "playlist_id             name         description                                                      num_followers  link                                                       \n",
      "37i9dQZF1DWSBi5svWQ9Nk  Hot Hits NL  De 50 populairste hits van nu. Cover: Roxy Dekker & Ronnie Flex  921925         https://api.spotify.com/v1/playlists/37i9dQZF1DWSBi5svWQ9Nk    1\n",
      "Name: count, dtype: int64\n",
      "song_id       title                                  explicit  artists                     popularity  num_occurances\n",
      "USUM72404990  I Had Some Help (Feat. Morgan Wallen)  True      Post Malone, Morgan Wallen  95          4                 4\n",
      "Name: count, dtype: int64\n",
      "song_id       album_id              \n",
      "USUM72404990  1woYXxyyxTQJ0E0AhZE6mj    4\n",
      "Name: count, dtype: int64\n",
      "song_id       playlist_id           \n",
      "UYB282301031  37i9dQZF1DXbYM3nMM0oPk    1\n",
      "Name: count, dtype: int64\n"
     ]
    }
   ],
   "source": [
    "print(albums.value_counts().head(1))\n",
    "print(playlists.value_counts().head(1))\n",
    "print(songs.value_counts().head(1))\n",
    "print(song_album_mapping.value_counts().head(1))\n",
    "print(song_playlist_mapping.value_counts().head(1))"
   ]
  },
  {
   "cell_type": "markdown",
   "metadata": {},
   "source": [
    "As expected, we have duplicates in the `albums`, `songs` and `song_album_mapping`. To resolve the future issue of dupicates, we drop them before we proceed further."
   ]
  },
  {
   "cell_type": "code",
   "execution_count": null,
   "metadata": {},
   "outputs": [],
   "source": [
    "albums = albums.drop_duplicates()\n",
    "songs = songs.drop_duplicates()\n",
    "song_album_mapping = song_album_mapping.drop_duplicates()"
   ]
  },
  {
   "cell_type": "markdown",
   "metadata": {},
   "source": [
    "# Creation of relational database\n",
    "Having cleaned and divided the data into meaningful tables, we can now create a database to store all the information. We will be using [SQLite](https://www.sqlite.org/index.html) because the database can be stored locally and the limitation of maximum one open connection is not an issue for this project."
   ]
  },
  {
   "cell_type": "code",
   "execution_count": null,
   "metadata": {},
   "outputs": [],
   "source": [
    "%load_ext sql\n",
    "%config SqlMagic.autocommit=True"
   ]
  },
  {
   "cell_type": "code",
   "execution_count": null,
   "metadata": {
    "vscode": {
     "languageId": "sql"
    }
   },
   "outputs": [],
   "source": [
    "%%sql sqlite:///../data/clean/spotify_playlists.db --alias db\n",
    "\n",
    "CREATE TABLE spotify_playlists\n",
    "(\n",
    "    \n",
    ")"
   ]
  },
  {
   "cell_type": "markdown",
   "metadata": {},
   "source": []
  }
 ],
 "metadata": {
  "kernelspec": {
   "display_name": "me204env",
   "language": "python",
   "name": "python3"
  },
  "language_info": {
   "codemirror_mode": {
    "name": "ipython",
    "version": 3
   },
   "file_extension": ".py",
   "mimetype": "text/x-python",
   "name": "python",
   "nbconvert_exporter": "python",
   "pygments_lexer": "ipython3",
   "version": "3.12.4"
  }
 },
 "nbformat": 4,
 "nbformat_minor": 2
}
